{
  "nbformat": 4,
  "nbformat_minor": 0,
  "metadata": {
    "colab": {
      "name": "Copy of Covid-19.ipynb",
      "provenance": [],
      "collapsed_sections": [],
      "include_colab_link": true
    },
    "kernelspec": {
      "display_name": "Python 3",
      "name": "python3"
    },
    "language_info": {
      "name": "python"
    }
  },
  "cells": [
    {
      "cell_type": "markdown",
      "metadata": {
        "id": "view-in-github",
        "colab_type": "text"
      },
      "source": [
        "<a href=\"https://colab.research.google.com/github/AhmadDzakiPutraDimas/Prediksi-Covid-19-Lampung-menggunakan-RNN-Recurrent-Neural-Network-/blob/main/Copy_of_Covid_19.ipynb\" target=\"_parent\"><img src=\"https://colab.research.google.com/assets/colab-badge.svg\" alt=\"Open In Colab\"/></a>"
      ]
    },
    {
      "cell_type": "markdown",
      "metadata": {
        "id": "fmjSNwJwI4WY"
      },
      "source": [
        "# Analisis dan Prediksi Model Kasus COVID-19 di Provinsi Lampung\n",
        "\n",
        "\n",
        "\n"
      ]
    },
    {
      "cell_type": "markdown",
      "metadata": {
        "id": "D-Df4MQDI8xv"
      },
      "source": [
        "#### Kelompok 2:\n",
        "1. Ayu Aprianti 118160004\n",
        "2. M. Faris Janis 118160012\n",
        "3. Claudia Dona Silvia 118160030\n",
        "4. Febri Alfharizi Rosadi 118160056\n",
        "5. Akhdan Aziz Ghozi 118160061\n",
        "6. Ahmad Dzaki Putra Dimas 118160092\n",
        "\n"
      ]
    },
    {
      "cell_type": "markdown",
      "metadata": {
        "id": "JIzaUPYmJK6-"
      },
      "source": [
        "## Pendahuluan\n",
        "Covid-19 merupakan virus yang menyerang sistem pernapasan dan bisa menyebabkan gangguan pada sistem pernapasan, pneumonia akut, sampai kematian. Terhitung sampai tanggal 28 Maret 2021 kasus Covid-19 di Lampung mencapai 13.878 kasus (Hendranto.2021). Semakin tingginya data kasus positif Covid-19 di Lampung, maka diperlukan suatu pemodelan untuk mengukur data harian mengenai jumlah orang yang terinfeksi, sembuh, maupun meninggal akibat virus Corona dan dapat merepresentasikan dinamika penderitannya menggunakan model. Untuk merepresentasikan model tersebut, akan digunakan pendekatan dengan teknik Deep Learning menggunakan model Reccurent Neural Network (RNN). \n",
        "\n",
        "Data yang digunakan merupakan kasus COVID-19 dari 26 Maret 2020 sampai 28 Maret 2021 di Provinsi Lampung."
      ]
    },
    {
      "cell_type": "code",
      "metadata": {
        "id": "aSXbj8IsIzFA"
      },
      "source": [
        "#import modul\n",
        "import numpy as np\n",
        "import matplotlib.pyplot as plt\n",
        "import pandas as pd\n",
        "import seaborn as sns\n",
        "import tensorflow as tf\n",
        "import sklearn\n",
        "import math\n",
        "from tensorflow import keras\n",
        "from sklearn.preprocessing import MinMaxScaler\n",
        "from sklearn.model_selection import train_test_split\n",
        "from IPython.display import display, Image\n",
        "import gspread\n",
        "import matplotlib.animation as animation\n",
        "from pydrive.auth import GoogleAuth\n",
        "from pydrive.drive import GoogleDrive\n",
        "from google.colab import auth\n",
        "from oauth2client.client import GoogleCredentials\n",
        " \n",
        "auth.authenticate_user()\n",
        "gauth = GoogleAuth()\n",
        "gauth.credentials = GoogleCredentials.get_application_default()\n",
        "drive = GoogleDrive(gauth)\n",
        "drive_id = '4/1AY0e-g60GY05H64THiSqM5kKZ-GHJS7sayI5qT6TcRe4xz17MCWse8aVogk'\n",
        "files = drive.CreateFile({'id': drive_id})\n",
        " \n",
        "gc = gspread.authorize(gauth.credentials)\n",
        "url = 'https://docs.google.com/spreadsheets/d/1vTbWGXSgsWkJ-NAqkplVIGyBint9cHQxkMjFoza4cTQ/edit#gid=590904120'\n",
        "worksheet = gc.open_by_url(url).sheet1\n",
        "rows = worksheet.get_all_records()"
      ],
      "execution_count": null,
      "outputs": []
    },
    {
      "cell_type": "markdown",
      "metadata": {
        "id": "jPNxNMh4Jhf3"
      },
      "source": [
        "## Program "
      ]
    },
    {
      "cell_type": "code",
      "metadata": {
        "id": "YsR4VSV9Jjj9",
        "colab": {
          "base_uri": "https://localhost:8080/",
          "height": 490
        },
        "outputId": "1c48b264-1a1b-431d-f8b7-67567dc08d61"
      },
      "source": [
        "#Import Data\n",
        "ss = pd.DataFrame.from_records(rows)\n",
        "ss"
      ],
      "execution_count": null,
      "outputs": [
        {
          "output_type": "execute_result",
          "data": {
            "text/html": [
              "<div>\n",
              "<style scoped>\n",
              "    .dataframe tbody tr th:only-of-type {\n",
              "        vertical-align: middle;\n",
              "    }\n",
              "\n",
              "    .dataframe tbody tr th {\n",
              "        vertical-align: top;\n",
              "    }\n",
              "\n",
              "    .dataframe thead th {\n",
              "        text-align: right;\n",
              "    }\n",
              "</style>\n",
              "<table border=\"1\" class=\"dataframe\">\n",
              "  <thead>\n",
              "    <tr style=\"text-align: right;\">\n",
              "      <th></th>\n",
              "      <th>Date</th>\n",
              "      <th>Location ISO Code</th>\n",
              "      <th>Location</th>\n",
              "      <th>New Cases</th>\n",
              "      <th>New Deaths</th>\n",
              "      <th>New Recovered</th>\n",
              "      <th>New Active Cases</th>\n",
              "      <th>Total Cases</th>\n",
              "      <th>Total Deaths</th>\n",
              "      <th>Total Recovered</th>\n",
              "      <th>Total Active Cases</th>\n",
              "      <th>Location Level</th>\n",
              "      <th>City or Regency</th>\n",
              "      <th>Province</th>\n",
              "      <th>Country</th>\n",
              "      <th>Continent</th>\n",
              "      <th>Island</th>\n",
              "      <th>Time Zone</th>\n",
              "      <th>Special Status</th>\n",
              "      <th>Total Regencies</th>\n",
              "      <th>Total Cities</th>\n",
              "      <th>Total Districts</th>\n",
              "      <th>Total Urban Villages</th>\n",
              "      <th>Total Rural Villages</th>\n",
              "      <th>Area (km2)</th>\n",
              "      <th>Population</th>\n",
              "      <th>Population Density</th>\n",
              "      <th>Longitude</th>\n",
              "      <th>Latitude</th>\n",
              "      <th>New Cases per Million</th>\n",
              "      <th>Total Cases per Million</th>\n",
              "      <th>New Deaths per Million</th>\n",
              "      <th>Total Deaths per Million</th>\n",
              "      <th>Case Fatality Rate</th>\n",
              "      <th>Case Recovered Rate</th>\n",
              "      <th>Growth Factor of New Cases</th>\n",
              "      <th>Growth Factor of New Deaths</th>\n",
              "    </tr>\n",
              "  </thead>\n",
              "  <tbody>\n",
              "    <tr>\n",
              "      <th>0</th>\n",
              "      <td>3/26/2020</td>\n",
              "      <td>ID-LA</td>\n",
              "      <td>Lampung</td>\n",
              "      <td>2</td>\n",
              "      <td>0</td>\n",
              "      <td>0</td>\n",
              "      <td>2</td>\n",
              "      <td>3</td>\n",
              "      <td>0</td>\n",
              "      <td>37</td>\n",
              "      <td>-34</td>\n",
              "      <td>Province</td>\n",
              "      <td></td>\n",
              "      <td>Lampung</td>\n",
              "      <td>Indonesia</td>\n",
              "      <td>Asia</td>\n",
              "      <td>Sumatera</td>\n",
              "      <td>UTC+07:00</td>\n",
              "      <td></td>\n",
              "      <td>13</td>\n",
              "      <td>2</td>\n",
              "      <td>228</td>\n",
              "      <td>205</td>\n",
              "      <td>2435</td>\n",
              "      <td>34624</td>\n",
              "      <td>9095591</td>\n",
              "      <td>262.7</td>\n",
              "      <td>105.0214</td>\n",
              "      <td>-4.91679</td>\n",
              "      <td>0.22</td>\n",
              "      <td>0.33</td>\n",
              "      <td>0.00</td>\n",
              "      <td>0.00</td>\n",
              "      <td>0.00%</td>\n",
              "      <td>1233.33%</td>\n",
              "      <td></td>\n",
              "      <td></td>\n",
              "    </tr>\n",
              "    <tr>\n",
              "      <th>1</th>\n",
              "      <td>3/27/2020</td>\n",
              "      <td>ID-LA</td>\n",
              "      <td>Lampung</td>\n",
              "      <td>1</td>\n",
              "      <td>0</td>\n",
              "      <td>0</td>\n",
              "      <td>1</td>\n",
              "      <td>4</td>\n",
              "      <td>0</td>\n",
              "      <td>37</td>\n",
              "      <td>-33</td>\n",
              "      <td>Province</td>\n",
              "      <td></td>\n",
              "      <td>Lampung</td>\n",
              "      <td>Indonesia</td>\n",
              "      <td>Asia</td>\n",
              "      <td>Sumatera</td>\n",
              "      <td>UTC+07:00</td>\n",
              "      <td></td>\n",
              "      <td>13</td>\n",
              "      <td>2</td>\n",
              "      <td>228</td>\n",
              "      <td>205</td>\n",
              "      <td>2435</td>\n",
              "      <td>34624</td>\n",
              "      <td>9095591</td>\n",
              "      <td>262.7</td>\n",
              "      <td>105.0214</td>\n",
              "      <td>-4.91679</td>\n",
              "      <td>0.11</td>\n",
              "      <td>0.44</td>\n",
              "      <td>0.00</td>\n",
              "      <td>0.00</td>\n",
              "      <td>0.00%</td>\n",
              "      <td>925.00%</td>\n",
              "      <td>0.5</td>\n",
              "      <td>1</td>\n",
              "    </tr>\n",
              "    <tr>\n",
              "      <th>2</th>\n",
              "      <td>3/28/2020</td>\n",
              "      <td>ID-LA</td>\n",
              "      <td>Lampung</td>\n",
              "      <td>0</td>\n",
              "      <td>0</td>\n",
              "      <td>0</td>\n",
              "      <td>0</td>\n",
              "      <td>4</td>\n",
              "      <td>0</td>\n",
              "      <td>37</td>\n",
              "      <td>-33</td>\n",
              "      <td>Province</td>\n",
              "      <td></td>\n",
              "      <td>Lampung</td>\n",
              "      <td>Indonesia</td>\n",
              "      <td>Asia</td>\n",
              "      <td>Sumatera</td>\n",
              "      <td>UTC+07:00</td>\n",
              "      <td></td>\n",
              "      <td>13</td>\n",
              "      <td>2</td>\n",
              "      <td>228</td>\n",
              "      <td>205</td>\n",
              "      <td>2435</td>\n",
              "      <td>34624</td>\n",
              "      <td>9095591</td>\n",
              "      <td>262.7</td>\n",
              "      <td>105.0214</td>\n",
              "      <td>-4.91679</td>\n",
              "      <td>0.00</td>\n",
              "      <td>0.44</td>\n",
              "      <td>0.00</td>\n",
              "      <td>0.00</td>\n",
              "      <td>0.00%</td>\n",
              "      <td>925.00%</td>\n",
              "      <td>0</td>\n",
              "      <td>1</td>\n",
              "    </tr>\n",
              "    <tr>\n",
              "      <th>3</th>\n",
              "      <td>3/29/2020</td>\n",
              "      <td>ID-LA</td>\n",
              "      <td>Lampung</td>\n",
              "      <td>0</td>\n",
              "      <td>0</td>\n",
              "      <td>0</td>\n",
              "      <td>0</td>\n",
              "      <td>4</td>\n",
              "      <td>0</td>\n",
              "      <td>37</td>\n",
              "      <td>-33</td>\n",
              "      <td>Province</td>\n",
              "      <td></td>\n",
              "      <td>Lampung</td>\n",
              "      <td>Indonesia</td>\n",
              "      <td>Asia</td>\n",
              "      <td>Sumatera</td>\n",
              "      <td>UTC+07:00</td>\n",
              "      <td></td>\n",
              "      <td>13</td>\n",
              "      <td>2</td>\n",
              "      <td>228</td>\n",
              "      <td>205</td>\n",
              "      <td>2435</td>\n",
              "      <td>34624</td>\n",
              "      <td>9095591</td>\n",
              "      <td>262.7</td>\n",
              "      <td>105.0214</td>\n",
              "      <td>-4.91679</td>\n",
              "      <td>0.00</td>\n",
              "      <td>0.44</td>\n",
              "      <td>0.00</td>\n",
              "      <td>0.00</td>\n",
              "      <td>0.00%</td>\n",
              "      <td>925.00%</td>\n",
              "      <td>1</td>\n",
              "      <td>1</td>\n",
              "    </tr>\n",
              "    <tr>\n",
              "      <th>4</th>\n",
              "      <td>3/30/2020</td>\n",
              "      <td>ID-LA</td>\n",
              "      <td>Lampung</td>\n",
              "      <td>4</td>\n",
              "      <td>1</td>\n",
              "      <td>0</td>\n",
              "      <td>3</td>\n",
              "      <td>8</td>\n",
              "      <td>1</td>\n",
              "      <td>37</td>\n",
              "      <td>-30</td>\n",
              "      <td>Province</td>\n",
              "      <td></td>\n",
              "      <td>Lampung</td>\n",
              "      <td>Indonesia</td>\n",
              "      <td>Asia</td>\n",
              "      <td>Sumatera</td>\n",
              "      <td>UTC+07:00</td>\n",
              "      <td></td>\n",
              "      <td>13</td>\n",
              "      <td>2</td>\n",
              "      <td>228</td>\n",
              "      <td>205</td>\n",
              "      <td>2435</td>\n",
              "      <td>34624</td>\n",
              "      <td>9095591</td>\n",
              "      <td>262.7</td>\n",
              "      <td>105.0214</td>\n",
              "      <td>-4.91679</td>\n",
              "      <td>0.44</td>\n",
              "      <td>0.88</td>\n",
              "      <td>0.11</td>\n",
              "      <td>0.11</td>\n",
              "      <td>12.50%</td>\n",
              "      <td>462.50%</td>\n",
              "      <td></td>\n",
              "      <td></td>\n",
              "    </tr>\n",
              "    <tr>\n",
              "      <th>...</th>\n",
              "      <td>...</td>\n",
              "      <td>...</td>\n",
              "      <td>...</td>\n",
              "      <td>...</td>\n",
              "      <td>...</td>\n",
              "      <td>...</td>\n",
              "      <td>...</td>\n",
              "      <td>...</td>\n",
              "      <td>...</td>\n",
              "      <td>...</td>\n",
              "      <td>...</td>\n",
              "      <td>...</td>\n",
              "      <td>...</td>\n",
              "      <td>...</td>\n",
              "      <td>...</td>\n",
              "      <td>...</td>\n",
              "      <td>...</td>\n",
              "      <td>...</td>\n",
              "      <td>...</td>\n",
              "      <td>...</td>\n",
              "      <td>...</td>\n",
              "      <td>...</td>\n",
              "      <td>...</td>\n",
              "      <td>...</td>\n",
              "      <td>...</td>\n",
              "      <td>...</td>\n",
              "      <td>...</td>\n",
              "      <td>...</td>\n",
              "      <td>...</td>\n",
              "      <td>...</td>\n",
              "      <td>...</td>\n",
              "      <td>...</td>\n",
              "      <td>...</td>\n",
              "      <td>...</td>\n",
              "      <td>...</td>\n",
              "      <td>...</td>\n",
              "      <td>...</td>\n",
              "    </tr>\n",
              "    <tr>\n",
              "      <th>363</th>\n",
              "      <td>3/24/2021</td>\n",
              "      <td>ID-LA</td>\n",
              "      <td>Lampung</td>\n",
              "      <td>51</td>\n",
              "      <td>3</td>\n",
              "      <td>34</td>\n",
              "      <td>14</td>\n",
              "      <td>13701</td>\n",
              "      <td>738</td>\n",
              "      <td>12376</td>\n",
              "      <td>587</td>\n",
              "      <td>Province</td>\n",
              "      <td></td>\n",
              "      <td>Lampung</td>\n",
              "      <td>Indonesia</td>\n",
              "      <td>Asia</td>\n",
              "      <td>Sumatera</td>\n",
              "      <td>UTC+07:00</td>\n",
              "      <td></td>\n",
              "      <td>13</td>\n",
              "      <td>2</td>\n",
              "      <td>228</td>\n",
              "      <td>205</td>\n",
              "      <td>2435</td>\n",
              "      <td>34624</td>\n",
              "      <td>9095591</td>\n",
              "      <td>262.7</td>\n",
              "      <td>105.0214</td>\n",
              "      <td>-4.91679</td>\n",
              "      <td>5.61</td>\n",
              "      <td>1506.33</td>\n",
              "      <td>0.33</td>\n",
              "      <td>81.14</td>\n",
              "      <td>5.39%</td>\n",
              "      <td>90.33%</td>\n",
              "      <td>1.38</td>\n",
              "      <td>1.5</td>\n",
              "    </tr>\n",
              "    <tr>\n",
              "      <th>364</th>\n",
              "      <td>3/25/2021</td>\n",
              "      <td>ID-LA</td>\n",
              "      <td>Lampung</td>\n",
              "      <td>51</td>\n",
              "      <td>1</td>\n",
              "      <td>63</td>\n",
              "      <td>-13</td>\n",
              "      <td>13752</td>\n",
              "      <td>739</td>\n",
              "      <td>12439</td>\n",
              "      <td>574</td>\n",
              "      <td>Province</td>\n",
              "      <td></td>\n",
              "      <td>Lampung</td>\n",
              "      <td>Indonesia</td>\n",
              "      <td>Asia</td>\n",
              "      <td>Sumatera</td>\n",
              "      <td>UTC+07:00</td>\n",
              "      <td></td>\n",
              "      <td>13</td>\n",
              "      <td>2</td>\n",
              "      <td>228</td>\n",
              "      <td>205</td>\n",
              "      <td>2435</td>\n",
              "      <td>34624</td>\n",
              "      <td>9095591</td>\n",
              "      <td>262.7</td>\n",
              "      <td>105.0214</td>\n",
              "      <td>-4.91679</td>\n",
              "      <td>5.61</td>\n",
              "      <td>1511.94</td>\n",
              "      <td>0.11</td>\n",
              "      <td>81.25</td>\n",
              "      <td>5.37%</td>\n",
              "      <td>90.45%</td>\n",
              "      <td>1</td>\n",
              "      <td>0.33</td>\n",
              "    </tr>\n",
              "    <tr>\n",
              "      <th>365</th>\n",
              "      <td>3/26/2021</td>\n",
              "      <td>ID-LA</td>\n",
              "      <td>Lampung</td>\n",
              "      <td>43</td>\n",
              "      <td>1</td>\n",
              "      <td>53</td>\n",
              "      <td>-11</td>\n",
              "      <td>13795</td>\n",
              "      <td>740</td>\n",
              "      <td>12492</td>\n",
              "      <td>563</td>\n",
              "      <td>Province</td>\n",
              "      <td></td>\n",
              "      <td>Lampung</td>\n",
              "      <td>Indonesia</td>\n",
              "      <td>Asia</td>\n",
              "      <td>Sumatera</td>\n",
              "      <td>UTC+07:00</td>\n",
              "      <td></td>\n",
              "      <td>13</td>\n",
              "      <td>2</td>\n",
              "      <td>228</td>\n",
              "      <td>205</td>\n",
              "      <td>2435</td>\n",
              "      <td>34624</td>\n",
              "      <td>9095591</td>\n",
              "      <td>262.7</td>\n",
              "      <td>105.0214</td>\n",
              "      <td>-4.91679</td>\n",
              "      <td>4.73</td>\n",
              "      <td>1516.67</td>\n",
              "      <td>0.11</td>\n",
              "      <td>81.36</td>\n",
              "      <td>5.36%</td>\n",
              "      <td>90.55%</td>\n",
              "      <td>0.84</td>\n",
              "      <td>1</td>\n",
              "    </tr>\n",
              "    <tr>\n",
              "      <th>366</th>\n",
              "      <td>3/27/2021</td>\n",
              "      <td>ID-LA</td>\n",
              "      <td>Lampung</td>\n",
              "      <td>48</td>\n",
              "      <td>4</td>\n",
              "      <td>51</td>\n",
              "      <td>-7</td>\n",
              "      <td>13843</td>\n",
              "      <td>744</td>\n",
              "      <td>12543</td>\n",
              "      <td>556</td>\n",
              "      <td>Province</td>\n",
              "      <td></td>\n",
              "      <td>Lampung</td>\n",
              "      <td>Indonesia</td>\n",
              "      <td>Asia</td>\n",
              "      <td>Sumatera</td>\n",
              "      <td>UTC+07:00</td>\n",
              "      <td></td>\n",
              "      <td>13</td>\n",
              "      <td>2</td>\n",
              "      <td>228</td>\n",
              "      <td>205</td>\n",
              "      <td>2435</td>\n",
              "      <td>34624</td>\n",
              "      <td>9095591</td>\n",
              "      <td>262.7</td>\n",
              "      <td>105.0214</td>\n",
              "      <td>-4.91679</td>\n",
              "      <td>5.28</td>\n",
              "      <td>1521.95</td>\n",
              "      <td>0.44</td>\n",
              "      <td>81.80</td>\n",
              "      <td>5.37%</td>\n",
              "      <td>90.61%</td>\n",
              "      <td>1.12</td>\n",
              "      <td>4</td>\n",
              "    </tr>\n",
              "    <tr>\n",
              "      <th>367</th>\n",
              "      <td>3/28/2021</td>\n",
              "      <td>ID-LA</td>\n",
              "      <td>Lampung</td>\n",
              "      <td>35</td>\n",
              "      <td>4</td>\n",
              "      <td>25</td>\n",
              "      <td>6</td>\n",
              "      <td>13878</td>\n",
              "      <td>748</td>\n",
              "      <td>12568</td>\n",
              "      <td>562</td>\n",
              "      <td>Province</td>\n",
              "      <td></td>\n",
              "      <td>Lampung</td>\n",
              "      <td>Indonesia</td>\n",
              "      <td>Asia</td>\n",
              "      <td>Sumatera</td>\n",
              "      <td>UTC+07:00</td>\n",
              "      <td></td>\n",
              "      <td>13</td>\n",
              "      <td>2</td>\n",
              "      <td>228</td>\n",
              "      <td>205</td>\n",
              "      <td>2435</td>\n",
              "      <td>34624</td>\n",
              "      <td>9095591</td>\n",
              "      <td>262.7</td>\n",
              "      <td>105.0214</td>\n",
              "      <td>-4.91679</td>\n",
              "      <td>3.85</td>\n",
              "      <td>1525.79</td>\n",
              "      <td>0.44</td>\n",
              "      <td>82.24</td>\n",
              "      <td>5.39%</td>\n",
              "      <td>90.56%</td>\n",
              "      <td>0.73</td>\n",
              "      <td>1</td>\n",
              "    </tr>\n",
              "  </tbody>\n",
              "</table>\n",
              "<p>368 rows × 37 columns</p>\n",
              "</div>"
            ],
            "text/plain": [
              "          Date  ... Growth Factor of New Deaths\n",
              "0    3/26/2020  ...                            \n",
              "1    3/27/2020  ...                           1\n",
              "2    3/28/2020  ...                           1\n",
              "3    3/29/2020  ...                           1\n",
              "4    3/30/2020  ...                            \n",
              "..         ...  ...                         ...\n",
              "363  3/24/2021  ...                         1.5\n",
              "364  3/25/2021  ...                        0.33\n",
              "365  3/26/2021  ...                           1\n",
              "366  3/27/2021  ...                           4\n",
              "367  3/28/2021  ...                           1\n",
              "\n",
              "[368 rows x 37 columns]"
            ]
          },
          "metadata": {},
          "execution_count": 4
        }
      ]
    },
    {
      "cell_type": "code",
      "metadata": {
        "colab": {
          "base_uri": "https://localhost:8080/",
          "height": 279
        },
        "id": "F0ZsVSFA8KB4",
        "outputId": "ce64e1f6-2028-47bf-9501-be9df72ceeeb"
      },
      "source": [
        "\n",
        "dk=ss.loc[:,'Total Cases']\n",
        "dataset = dk.values\n",
        "TotKasus = dataset.astype('float32')\n",
        "TotKasus = np.array(TotKasus.reshape(-1,1))\n",
        " \n",
        "plt.plot(TotKasus, label='Kasus') \n",
        "plt.xlabel('waktu (dalam hari)')\n",
        "plt.ylabel('populasi')\n",
        "plt.legend()\n",
        "plt.show()"
      ],
      "execution_count": null,
      "outputs": [
        {
          "output_type": "display_data",
          "data": {
            "image/png": "[encoded data removed]",
            "text/plain": [
              "<Figure size 432x288 with 1 Axes>"
            ]
          },
          "metadata": {
            "needs_background": "light"
          }
        }
      ]
    },
    {
      "cell_type": "code",
      "metadata": {
        "id": "QSlWxl7LJxaC"
      },
      "source": [
        "#Training\n",
        "def hoho (rand,lookback): \n",
        "  x, y = matriks(rand, look_back) \n",
        "  x = np.reshape(x, (x.shape[0], 1, x.shape[1])) \n",
        "  xTrain , yTrain,xTest,yTest= x[0:300,:],y[0:300,:], x[300:,:],y[300:,:]\n",
        " \n",
        "  return xTrain, yTrain ,xTest, yTest\n",
        "\n",
        "def scale_invers (kasus,model):\n",
        "  scaler =MinMaxScaler(feature_range=(0,1))\n",
        "  rand=scaler.fit_transform(kasus)\n",
        "  r = scaler.inverse_transform(model)\n",
        "  return rand,r\n",
        " \n",
        "def matriks(data_arr, look_back):\n",
        "  X, Y =[], []\n",
        "  for i in range(len(data_arr)-look_back):\n",
        "    d=i+look_back  \n",
        "    X.append(data_arr[i:d])\n",
        "    Y.append(data_arr[d])\n",
        " \n",
        "  X = np.array(X)\n",
        "  Y = np.array(Y)\n",
        "  \n",
        "  return X, Y\n",
        " \n",
        "def model_loss(history,case):\n",
        "    \n",
        "    plt.figure(figsize=(8,4))\n",
        "    plt.plot(history.history['loss'], label='Train Loss')\n",
        "    plt.title('model loss'+ str(case))\n",
        "    plt.ylabel('loss')\n",
        "    plt.xlabel('epochs')\n",
        "    plt.show();"
      ],
      "execution_count": null,
      "outputs": []
    },
    {
      "cell_type": "code",
      "metadata": {
        "id": "CpSu8RnnyhVx"
      },
      "source": [
        "  look_back =15 \n",
        "\n",
        "  model=tf.keras.Sequential()\n",
        "  model.add(tf.keras.layers.SimpleRNN(units=50, input_dim=look_back, activation='tanh')) #Hiden layer 1\n",
        "  model.add(tf.keras.layers.Dense(20, activation='relu')) #Hidden layer 2\n",
        "  model.add(tf.keras.layers.Dense(20, activation='relu'))\n",
        "  model.add(tf.keras.layers.Dense(1)) #output\n",
        "  model.compile(loss='mean_squared_error',  optimizer='adam',metrics = ['mse', 'mae'])\n",
        "  "
      ],
      "execution_count": null,
      "outputs": []
    },
    {
      "cell_type": "code",
      "metadata": {
        "id": "OaMBujP6leVX",
        "colab": {
          "base_uri": "https://localhost:8080/",
          "height": 265
        },
        "outputId": "28c751f5-b18b-4956-f3e4-1c1077c3c0e3"
      },
      "source": [
        "randKasus,rKasus=scale_invers(TotKasus,TotKasus)\n",
        "plt.plot(randKasus, label='Model Kasus')\n",
        "plt.legend()\n",
        "plt.show()"
      ],
      "execution_count": null,
      "outputs": [
        {
          "output_type": "display_data",
          "data": {
            "image/png": "[encoded data removed]",
            "text/plain": [
              "<Figure size 432x288 with 1 Axes>"
            ]
          },
          "metadata": {
            "needs_background": "light"
          }
        }
      ]
    },
    {
      "cell_type": "code",
      "metadata": {
        "id": "VJ1c5JX4ysTp"
      },
      "source": [
        "xTrain, yTrain ,xTest, yTest = hoho(randKasus,look_back)\n"
      ],
      "execution_count": null,
      "outputs": []
    },
    {
      "cell_type": "code",
      "metadata": {
        "id": "xGoAlciEKQ3i",
        "colab": {
          "base_uri": "https://localhost:8080/",
          "height": 295
        },
        "outputId": "317dbc5a-4a58-4a4a-81aa-7220d961c960"
      },
      "source": [
        "#Loss model sebelum Tuning\n",
        "history1 = model.fit(xTrain, yTrain, epochs=100,verbose=0)\n",
        "model_loss(history1,' kasus')\n"
      ],
      "execution_count": null,
      "outputs": [
        {
          "output_type": "display_data",
          "data": {
            "image/png": "[encoded data removed]",
            "text/plain": [
              "<Figure size 576x288 with 1 Axes>"
            ]
          },
          "metadata": {
            "needs_background": "light"
          }
        }
      ]
    },
    {
      "cell_type": "markdown",
      "metadata": {
        "id": "6xBnXamGKDzd"
      },
      "source": [
        "## Tuning Parameter"
      ]
    },
    {
      "cell_type": "code",
      "metadata": {
        "id": "2_VKKPKOI1Fs"
      },
      "source": [
        "t = np.arange(len(randKasus))\n",
        "dk=ss.loc[:,'Total Cases']\n",
        "dk=dk.values\n",
        "dk = dk.reshape(-1,1)\n"
      ],
      "execution_count": null,
      "outputs": []
    },
    {
      "cell_type": "code",
      "metadata": {
        "colab": {
          "base_uri": "https://localhost:8080/"
        },
        "id": "5qML1rsSUywC",
        "outputId": "aa8ebe31-664e-4370-f5dd-341310a3e871"
      },
      "source": [
        "mmscaler = MinMaxScaler(feature_range=(0, 1))\n",
        "last_sms_scaled = mmscaler.fit_transform(dk[-15:])\n",
        "\n",
        "X_test = []\n",
        "X_test.append(last_sms_scaled)\n",
        "\n",
        "X_test = np.array(X_test)\n",
        "X_test = np.reshape(X_test, (X_test.shape[0], X_test.shape[0],15))\n",
        "\n",
        "pred_smp = model.predict(X_test)\n",
        "pred_smp_unscaled = mmscaler.inverse_transform(pred_smp)\n",
        "\n",
        "smp_today = round(dk.ravel()[367], 0)\n",
        "predicted_smp = round(pred_smp_unscaled.ravel()[0], 0)\n",
        "\n",
        "print(f'Jumlah Kasus Aktif Terbaru :{smp_today}')\n",
        "print(f'Prediksi Jumlah Kasus Aktif Satu hari ke Depan : {predicted_smp}')\n"
      ],
      "execution_count": null,
      "outputs": [
        {
          "output_type": "stream",
          "name": "stdout",
          "text": [
            "Jumlah Kasus Aktif Terbaru :13878\n",
            "Prediksi Jumlah Kasus Aktif Satu hari ke Depan : 13642.0\n"
          ]
        }
      ]
    },
    {
      "cell_type": "code",
      "metadata": {
        "id": "so36aa-FiiC9"
      },
      "source": [
        "trainPredictKasus = model.predict(xTrain)\n",
        "testPredictKasus = model.predict(xTest)"
      ],
      "execution_count": null,
      "outputs": []
    },
    {
      "cell_type": "code",
      "metadata": {
        "colab": {
          "base_uri": "https://localhost:8080/"
        },
        "id": "0PTNwt5AAtlh",
        "outputId": "b9f50c5e-021b-4cb7-d44d-c8567a010881"
      },
      "source": [
        "trainScore = np.sqrt(np.mean(yTrain[:,0] - trainPredictKasus[:,0])**2)\n",
        "print('Train Score Kasus: %.7f RMSE'%(trainScore))\n",
        "testScore = np.sqrt(np.mean(yTest[:,0] - testPredictKasus[:,0])**2)\n",
        "print('Test Score Kasus: %.7f RMSE'%(testScore))"
      ],
      "execution_count": null,
      "outputs": [
        {
          "output_type": "stream",
          "name": "stdout",
          "text": [
            "Train Score Kasus: 0.0004926 RMSE\n",
            "Test Score Kasus: 0.0002871 RMSE\n"
          ]
        }
      ]
    },
    {
      "cell_type": "code",
      "metadata": {
        "colab": {
          "base_uri": "https://localhost:8080/"
        },
        "id": "TLN1KYeiFNzt",
        "outputId": "eb50313a-a2f3-4031-d147-8abae8ab94b9"
      },
      "source": [
        "akurasi_train = (1-trainScore)*100\n",
        "akurasi_test = (1-testScore)*100\n",
        "print('Accuracy Train Score Kasus: %.7f'%(akurasi_train)+'%')\n",
        "print('Accuracy Test Score Kasus: %.7f'%(akurasi_test)+'%')"
      ],
      "execution_count": null,
      "outputs": [
        {
          "output_type": "stream",
          "name": "stdout",
          "text": [
            "Accuracy Train Score Kasus: 99.9507401%\n",
            "Accuracy Test Score Kasus: 99.9712883%\n"
          ]
        }
      ]
    },
    {
      "cell_type": "code",
      "metadata": {
        "id": "NasCQ5nMPEGv",
        "colab": {
          "base_uri": "https://localhost:8080/",
          "height": 543
        },
        "outputId": "f8f279ac-6d1f-4561-c5ff-27eefa474208"
      },
      "source": [
        "#Tuning Parameter Kasus\n",
        "\n",
        "\n",
        "rand, trainPredictKasus = scale_invers(TotKasus,trainPredictKasus)\n",
        "rand, yTrain = scale_invers(TotKasus,yTrain)\n",
        "rand, testPredictKasus =scale_invers(TotKasus,testPredictKasus)\n",
        "rand, yTest = scale_invers(TotKasus,yTest)\n",
        " \n",
        "rr, rrr =scale_invers(TotKasus,randKasus)\n",
        "plt.plot(rrr, label='Kasus')\n",
        "plt.plot(t[look_back:300+look_back],trainPredictKasus,'--',label='Train RNN Kasus')\n",
        "plt.plot(t[300+look_back:],yTest,label='Test Kasus') \n",
        "plt.plot(t[300+look_back:], testPredictKasus,':',label='Test RNN Kasus')\n",
        "\n",
        "\n",
        "plt.legend(loc='upper left')\n",
        "plt.show()\n",
        "model_loss(history1,' kasus')"
      ],
      "execution_count": null,
      "outputs": [
        {
          "output_type": "display_data",
          "data": {
            "image/png": "[encoded data removed]",
            "text/plain": [
              "<Figure size 432x288 with 1 Axes>"
            ]
          },
          "metadata": {
            "needs_background": "light"
          }
        },
        {
          "output_type": "display_data",
          "data": {
            "image/png": "[encoded data removed]",
            "text/plain": [
              "<Figure size 576x288 with 1 Axes>"
            ]
          },
          "metadata": {
            "needs_background": "light"
          }
        }
      ]
    },
    {
      "cell_type": "code",
      "metadata": {
        "id": "14VncORqFMVK"
      },
      "source": [
        ""
      ],
      "execution_count": null,
      "outputs": []
    },
    {
      "cell_type": "markdown",
      "metadata": {
        "id": "LL9cCyHqJkxl"
      },
      "source": [
        "## Evaluasi Model"
      ]
    },
    {
      "cell_type": "code",
      "metadata": {
        "id": "kUYeu6pSJmVV",
        "colab": {
          "base_uri": "https://localhost:8080/"
        },
        "outputId": "d1bd6c87-e27b-492e-df6b-6860cf458ea7"
      },
      "source": [
        "testPredictKasus"
      ],
      "execution_count": null,
      "outputs": [
        {
          "output_type": "execute_result",
          "data": {
            "text/plain": [
              "array([[14034.335]], dtype=float32)"
            ]
          },
          "metadata": {},
          "execution_count": 122
        }
      ]
    },
    {
      "cell_type": "code",
      "metadata": {
        "id": "JNDf7IL00YlH",
        "colab": {
          "base_uri": "https://localhost:8080/",
          "height": 267
        },
        "outputId": "fcb207c9-b23f-43d6-ace0-a51627527c7a"
      },
      "source": [
        "#Perbandingan Model Prediksi dengan Model Data (dari data 301-367)\n",
        "plt.plot(yTest, label='Model Kasus')\n",
        "plt.plot(testPredictKasus, '--', label='Model RNN Kasus')\n",
        "plt.legend(loc='upper left')\n",
        "plt.show()\n",
        " \n"
      ],
      "execution_count": null,
      "outputs": [
        {
          "output_type": "display_data",
          "data": {
            "image/png": "[encoded data removed]",
            "text/plain": [
              "<Figure size 432x288 with 1 Axes>"
            ]
          },
          "metadata": {
            "needs_background": "light"
          }
        }
      ]
    },
    {
      "cell_type": "code",
      "metadata": {
        "id": "LGI4p_7jcJm4",
        "colab": {
          "base_uri": "https://localhost:8080/"
        },
        "outputId": "fee63a3a-6e6f-4925-ef32-f670e0de483b"
      },
      "source": [
        "trainScore = np.sqrt(np.mean(yTrain[:,0] - trainPredictKasus[:,0])**2)\n",
        "print('Train Score Kasus: %.2f RMSE'%(trainScore))\n",
        "testScore = np.sqrt(np.mean(yTest[:,0] - testPredictKasus[:,0])**2)\n",
        "print('Test Score Kasus: %.2f RMSE'%(testScore))\n",
        " \n"
      ],
      "execution_count": null,
      "outputs": [
        {
          "output_type": "stream",
          "name": "stdout",
          "text": [
            "Train Score Kasus: 6.83 RMSE\n",
            "Test Score Kasus: 3.98 RMSE\n"
          ]
        }
      ]
    },
    {
      "cell_type": "code",
      "metadata": {
        "colab": {
          "base_uri": "https://localhost:8080/"
        },
        "id": "p9nRImzOzPjr",
        "outputId": "28a5c91a-21e6-4d41-beb2-5f12c3334494"
      },
      "source": [
        ""
      ],
      "execution_count": null,
      "outputs": [
        {
          "output_type": "execute_result",
          "data": {
            "text/plain": [
              "keras.callbacks.History"
            ]
          },
          "metadata": {},
          "execution_count": 127
        }
      ]
    },
    {
      "cell_type": "code",
      "metadata": {
        "colab": {
          "base_uri": "https://localhost:8080/"
        },
        "id": "hb_YSsVT_CPG",
        "outputId": "170a6fa1-202d-4be5-aadf-0fe3f52f649e"
      },
      "source": [
        ""
      ],
      "execution_count": null,
      "outputs": [
        {
          "output_type": "execute_result",
          "data": {
            "text/plain": [
              "139722449900496"
            ]
          },
          "metadata": {},
          "execution_count": 126
        }
      ]
    },
    {
      "cell_type": "code",
      "metadata": {
        "id": "R9ADuHUV_Hgj"
      },
      "source": [
        ""
      ],
      "execution_count": null,
      "outputs": []
    }
  ]
}